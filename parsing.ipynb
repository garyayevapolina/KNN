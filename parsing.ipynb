{
 "cells": [
  {
   "cell_type": "markdown",
   "metadata": {},
   "source": [
    "Импорты"
   ]
  },
  {
   "cell_type": "code",
   "execution_count": null,
   "metadata": {},
   "outputs": [],
   "source": [
    "import pandas as pd \n",
    "import json \n",
    "import requests \n",
    "from bs4 import BeautifulSoup \n",
    "from tqdm.auto import tqdm "
   ]
  },
  {
   "cell_type": "markdown",
   "metadata": {},
   "source": [
    "Считывание датасета"
   ]
  },
  {
   "cell_type": "code",
   "execution_count": 1,
   "metadata": {},
   "outputs": [],
   "source": [
    "file_path = 'dataset.json' \n",
    "with open(file_path, 'r', encoding='utf-8') as file: \n",
    "    data = json.load(file) \n",
    " \n",
    "df = pd.json_normalize(data['data']) \n",
    "df = df.loc[df['description'] != 'фейк']"
   ]
  },
  {
   "cell_type": "markdown",
   "metadata": {},
   "source": [
    "Функции для парсинга"
   ]
  },
  {
   "cell_type": "code",
   "execution_count": 2,
   "metadata": {},
   "outputs": [],
   "source": [
    "def download_page(url): \n",
    "    try: \n",
    "        response = requests.get(url) \n",
    "        response.raise_for_status() \n",
    "        response.encoding = 'utf-8'\n",
    "        return response.text \n",
    "    except requests.RequestException as e: \n",
    "        print(f\"Error downloading the page: {e}\") \n",
    "        return None \n",
    " \n",
    "def extract_text(soup, count): \n",
    "    return soup.find_all('article')[count].stripped_strings"
   ]
  },
  {
   "cell_type": "markdown",
   "metadata": {},
   "source": [
    "Парсинг страниц"
   ]
  },
  {
   "cell_type": "code",
   "execution_count": 4,
   "metadata": {},
   "outputs": [],
   "source": [
    "error_urls = []\n",
    "infos = [] \n",
    "parent_url = ''\n",
    "count = 0\n",
    "texts = []\n",
    "for uri in tqdm(df['url']):\n",
    "    uri_parent = uri.split('?')[0]\n",
    "    if parent_url == uri_parent:\n",
    "        count+=1\n",
    "    else:\n",
    "        parent_url = uri_parent\n",
    "        count=0\n",
    "    html_content = download_page(uri) \n",
    "    if html_content: \n",
    "        soup = BeautifulSoup(html_content, 'html.parser') \n",
    "        try:\n",
    "            text_content = extract_text(soup, count) \n",
    "        except:\n",
    "            try:\n",
    "                count = 0\n",
    "                text_content = extract_text(soup, count) \n",
    "            except:\n",
    "                error_urls.append(uri)\n",
    "        infos.append(uri)\n",
    "        texts.append(text_content)\n",
    "\n",
    "df_texts = pd.DataFrame({'url': infos, 'text': texts})\n",
    "df_errors = pd.DataFrame({'url': error_urls})\n",
    "\n",
    "df_texts.to_csv('text.csv') # parsed urls\n",
    "df_errors.to_csv('erros.csv') # unparsed urls for manual processing"
   ]
  }
 ],
 "metadata": {
  "kernelspec": {
   "display_name": "venv",
   "language": "python",
   "name": "python3"
  },
  "language_info": {
   "codemirror_mode": {
    "name": "ipython",
    "version": 3
   },
   "file_extension": ".py",
   "mimetype": "text/x-python",
   "name": "python",
   "nbconvert_exporter": "python",
   "pygments_lexer": "ipython3",
   "version": "3.11.1"
  }
 },
 "nbformat": 4,
 "nbformat_minor": 2
}
